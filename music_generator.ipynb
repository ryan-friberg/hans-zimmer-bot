{
 "cells": [
  {
   "cell_type": "code",
   "execution_count": 1,
   "id": "0b5da2f7-455a-44b2-bac1-6e9af548cb7d",
   "metadata": {},
   "outputs": [],
   "source": [
    "import torch\n",
    "from torchvision import transforms\n",
    "from IPython.display import Image as Img\n",
    "from PIL import Image\n",
    "import os\n",
    "import random\n",
    "import numpy as np\n",
    "\n",
    "# add any more necessary imports for stable diffusion"
   ]
  },
  {
   "cell_type": "code",
   "execution_count": 2,
   "id": "ea957cbf-5d4e-4d35-9adb-3cab6ca48057",
   "metadata": {},
   "outputs": [],
   "source": [
    "# define mappings from image labels to music labels\n",
    "label_map = { 'dark': 'dark music', \n",
    "              'somber': 'somber music', \n",
    "              'gloomy': 'gloomy music', \n",
    "              'dark art': 'dark music',\n",
    "              'dark landscape': 'dark music', \n",
    "              'gloomy art': 'gloomy art', \n",
    "              'whimsical': 'happy music', \n",
    "              'colorful art': 'cheerful music',\n",
    "              'fantasy world': 'bright music', \n",
    "              'happy fantasy world': 'happy music', \n",
    "              'bright picture': 'bright music', \n",
    "              'whimsical music': 'cheerful music', \n",
    "              'bright art': 'bright music', \n",
    "              'bright landscape': 'bright music',\n",
    "              'electronic music': 'techno music', \n",
    "              'retro': 'techno music', \n",
    "              'synthwave': 'retro music', \n",
    "              'techno party': 'party music', \n",
    "              'night club': 'night club music', \n",
    "              'techno wallpaper': 'techno music', \n",
    "              'disco': 'part music',\n",
    "              'calm': 'calm music', \n",
    "              'peaceful': 'peaceful music', \n",
    "              'placid': 'relaxing music', \n",
    "              'calm water': 'calm music',\n",
    "              'peaceful art': 'peaceful music', \n",
    "              'peaceful landscape': 'peaceful music', \n",
    "              'calm art': 'calm music', \n",
    "              'serene': 'relaxing music',\n",
    "              'founding fathers': 'classical music', \n",
    "              'classical': 'classical music', \n",
    "              'old timey art': 'classic music', \n",
    "              'vintage': 'classical music', \n",
    "              'cathedral': 'classical music',  \n",
    "              'old england dainty': 'classic music', \n",
    "              'classical art': 'classic music'\n",
    "            }"
   ]
  },
  {
   "cell_type": "code",
   "execution_count": null,
   "id": "87114987-fd2e-4b10-a3b1-78ac1f3c5647",
   "metadata": {},
   "outputs": [],
   "source": [
    "# load in the ViT model and the test data\n",
    "# run inference and get the generated labels"
   ]
  },
  {
   "cell_type": "code",
   "execution_count": 3,
   "id": "712e260b-0723-4dfb-a73f-82bbaf92fcc4",
   "metadata": {},
   "outputs": [],
   "source": [
    "# run inference on fine tuned stable diffusion"
   ]
  },
  {
   "cell_type": "code",
   "execution_count": null,
   "id": "effb38bd-a9da-459b-a920-07d39d1f32df",
   "metadata": {},
   "outputs": [],
   "source": []
  }
 ],
 "metadata": {
  "kernelspec": {
   "display_name": "Python 3",
   "language": "python",
   "name": "python3"
  },
  "language_info": {
   "codemirror_mode": {
    "name": "ipython",
    "version": 3
   },
   "file_extension": ".py",
   "mimetype": "text/x-python",
   "name": "python",
   "nbconvert_exporter": "python",
   "pygments_lexer": "ipython3",
   "version": "3.7.12"
  }
 },
 "nbformat": 4,
 "nbformat_minor": 5
}
